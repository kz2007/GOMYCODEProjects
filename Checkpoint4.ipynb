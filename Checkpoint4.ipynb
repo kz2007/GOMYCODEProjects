{
 "cells": [
  {
   "cell_type": "code",
   "execution_count": 5,
   "id": "consecutive-failing",
   "metadata": {},
   "outputs": [
    {
     "name": "stdout",
     "output_type": "stream",
     "text": [
      "Enter your first value: 8\n",
      "Enter your second value: 5\n",
      "Enter your third value: 6\n",
      "8\n"
     ]
    }
   ],
   "source": [
    "#Exercice 1\n",
    "def comparison(v1, v2, v3):\n",
    "    v1 = int(v1)\n",
    "    v2 = int(v2)\n",
    "    v3 = int(v3)\n",
    "    vb = v1\n",
    "    if vb < v2:\n",
    "        vb = v2\n",
    "    if vb < v3:\n",
    "        vb = v3\n",
    "    return vb\n",
    "print(comparison(input(\"Enter your first value: \"), input(\"Enter your second value: \"), input(\"Enter your third value: \")))"
   ]
  },
  {
   "cell_type": "code",
   "execution_count": 8,
   "id": "alert-information",
   "metadata": {},
   "outputs": [
    {
     "name": "stdout",
     "output_type": "stream",
     "text": [
      "Enter your first value: 40\n",
      "Enter your second value: 10\n",
      "(50, 30)\n"
     ]
    }
   ],
   "source": [
    "#Exercice 2\n",
    "def calculation(v1, v2):\n",
    "    v1 = int(v1)\n",
    "    v2 = int(v2)\n",
    "    return v1 + v2, v1 - v2\n",
    "print(calculation(input(\"Enter your first value: \"), input(\"Enter your second value: \")))"
   ]
  },
  {
   "cell_type": "code",
   "execution_count": 17,
   "id": "electronic-holly",
   "metadata": {},
   "outputs": [
    {
     "name": "stdout",
     "output_type": "stream",
     "text": [
      "12\n",
      "15\n"
     ]
    }
   ],
   "source": [
    "#Exercice 3\n",
    "def SumsList(List):\n",
    "    result = 0\n",
    "    for i in List:\n",
    "        result += i\n",
    "    return result\n",
    "\n",
    "def MultipliesList(List):\n",
    "    result = 1\n",
    "    for i in List:\n",
    "        result = result * i\n",
    "    return result\n",
    "\n",
    "\n",
    "List = [5, 3, 8, 4]\n",
    "\n",
    "\n",
    "List1 =[]\n",
    "List2 =[]\n",
    "for i in List:\n",
    "    if (i % 2) == 0:\n",
    "        List1.append(i)\n",
    "    else:\n",
    "        List2.append(i)\n",
    "print(SumsList(List1))\n",
    "print(MultipliesList(List2))"
   ]
  },
  {
   "cell_type": "code",
   "execution_count": 27,
   "id": "unauthorized-combining",
   "metadata": {},
   "outputs": [
    {
     "name": "stdout",
     "output_type": "stream",
     "text": [
      "['black', 'green', 'red', 'white', 'yellow']\n"
     ]
    }
   ],
   "source": [
    "#Exercice 4\n",
    "string = \"green-red-yellow-black-white\"\n",
    "List = string.split(\"-\")\n",
    "List.sort()\n",
    "print(List)"
   ]
  },
  {
   "cell_type": "code",
   "execution_count": null,
   "id": "square-thought",
   "metadata": {},
   "outputs": [],
   "source": []
  }
 ],
 "metadata": {
  "kernelspec": {
   "display_name": "Python 3",
   "language": "python",
   "name": "python3"
  },
  "language_info": {
   "codemirror_mode": {
    "name": "ipython",
    "version": 3
   },
   "file_extension": ".py",
   "mimetype": "text/x-python",
   "name": "python",
   "nbconvert_exporter": "python",
   "pygments_lexer": "ipython3",
   "version": "3.6.13"
  }
 },
 "nbformat": 4,
 "nbformat_minor": 5
}
