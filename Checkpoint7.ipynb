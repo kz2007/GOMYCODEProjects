{
 "cells": [
  {
   "cell_type": "code",
   "execution_count": null,
   "id": "f723968e",
   "metadata": {},
   "outputs": [],
   "source": [
    "import pandas as pd\n",
    "import numpy as np\n",
    "\n",
    "\n",
    "#Question 1\n",
    "exam_data = {'name': ['Anastasia', 'Dima', 'Katherine', 'James', 'Emily', 'Michael', 'Matthew', 'Laura', 'Kevin', 'Jonas'],'score': [12.5, 9, 16.5, np.nan, 9, 20, 14.5, np.nan, 8, 19],'attempts': [1, 3, 2, 3, 2, 3, 1, 1, 2, 1],'qualify': ['yes', 'no', 'yes', 'no', 'no', 'yes', 'yes', 'no', 'no', 'yes']}\n",
    "labels = ['a', 'b', 'c', 'd', 'e', 'f', 'g', 'h', 'i', 'j']\n",
    "\n",
    "df = pd.DataFrame(exam_data, index=labels)\n",
    "print(df.head(3))\n",
    "\n",
    "#Question 2\n",
    "RowsToDrop = []\n",
    "for x in labels:\n",
    "    if np.isnan(df.loc[x][\"score\"]):\n",
    "        RowsToDrop.append(x)\n",
    "df = df.drop(RowsToDrop)\n",
    "print(df)\n",
    "\n",
    "\n",
    "#Question 3\n",
    "print(df[['name', 'score']])\n",
    "\n",
    "#Question 4\n",
    "exam_data['name'].append(\"Suresh\")\n",
    "exam_data['score'].append(15.5)\n",
    "exam_data['attempts'].append(1)\n",
    "exam_data['qualify'].append(\"yes\")\n",
    "labels.append('k')\n",
    "\n",
    "df = pd.DataFrame(exam_data, index=labels)\n",
    "\n",
    "print(df)\n",
    "\n",
    "#Question 5\n",
    "\n",
    "df = df.drop('attempts', axis=1)\n",
    "\n",
    "print(df)\n",
    "\n",
    "#Question 6\n",
    "Success = []\n",
    "for x in labels:\n",
    "    if df.loc[x][\"score\"] > 10:\n",
    "        Success.append(1)\n",
    "    else:\n",
    "        Success.append(0)\n",
    "        \n",
    "df['Success'] = Success\n",
    "\n",
    "print(df)\n",
    "\n",
    "#Question 7\n",
    "df.to_csv(\"my_data.csv\")"
   ]
  }
 ],
 "metadata": {
  "kernelspec": {
   "display_name": "Python 3",
   "language": "python",
   "name": "python3"
  },
  "language_info": {
   "codemirror_mode": {
    "name": "ipython",
    "version": 3
   },
   "file_extension": ".py",
   "mimetype": "text/x-python",
   "name": "python",
   "nbconvert_exporter": "python",
   "pygments_lexer": "ipython3",
   "version": "3.8.8"
  }
 },
 "nbformat": 4,
 "nbformat_minor": 5
}
