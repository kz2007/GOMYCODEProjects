{
 "cells": [
  {
   "cell_type": "code",
   "execution_count": 8,
   "id": "satisfactory-scientist",
   "metadata": {},
   "outputs": [
    {
     "name": "stdout",
     "output_type": "stream",
     "text": [
      "Enter the tuples number : 2\n",
      "> 14,555,445,4fmd\n",
      "> 45, \n",
      "[('14', '555', '445', '4fmd'), ('45', ' ')]\n"
     ]
    }
   ],
   "source": [
    "tupleNumber = int(input(\"Enter the tuples number : \"))\n",
    "tuplesList = []\n",
    "\n",
    "for i in range(tupleNumber):\n",
    "    tuplesList.append(tuple(input(\"> \").split(',')))\n",
    "    \n",
    "    \n",
    "print(tuplesList)\n"
   ]
  }
 ],
 "metadata": {
  "kernelspec": {
   "display_name": "Python 3",
   "language": "python",
   "name": "python3"
  },
  "language_info": {
   "codemirror_mode": {
    "name": "ipython",
    "version": 3
   },
   "file_extension": ".py",
   "mimetype": "text/x-python",
   "name": "python",
   "nbconvert_exporter": "python",
   "pygments_lexer": "ipython3",
   "version": "3.6.13"
  }
 },
 "nbformat": 4,
 "nbformat_minor": 5
}
