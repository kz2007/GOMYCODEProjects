{
 "cells": [
  {
   "cell_type": "code",
   "execution_count": 1,
   "id": "built-entry",
   "metadata": {},
   "outputs": [
    {
     "name": "stdout",
     "output_type": "stream",
     "text": [
      "X = 1, Y = 2, Z = 3\n"
     ]
    }
   ],
   "source": [
    "class Point3D:\n",
    "    def __init__(self, x, y, z):\n",
    "        self.x = x\n",
    "        self.y = y\n",
    "        self.z = z\n",
    "\n",
    "my_point = Point3D(1, 2, 3)\n",
    "print(\"X = {}, Y = {}, Z = {}\".format(my_point.x, my_point.y, my_point.z))"
   ]
  },
  {
   "cell_type": "code",
   "execution_count": 2,
   "id": "absolute-basement",
   "metadata": {},
   "outputs": [
    {
     "name": "stdout",
     "output_type": "stream",
     "text": [
      "Area = 12\n",
      "Perimeter = 14\n"
     ]
    }
   ],
   "source": [
    "class Rectangle:\n",
    "    def __init__(self, width, height):\n",
    "        self.width = width\n",
    "        self.height = height\n",
    "    def area(self):\n",
    "        return (self.width * self.height)\n",
    "    def perimeter(self):\n",
    "        return (2 * (self.width + self.height))\n",
    "\n",
    "my_rectangle = Rectangle(3, 4)\n",
    "print(\"Area = {}\".format(my_rectangle.area()))\n",
    "print(\"Perimeter = {}\".format(my_rectangle.perimeter()))"
   ]
  },
  {
   "cell_type": "code",
   "execution_count": 13,
   "id": "unexpected-history",
   "metadata": {},
   "outputs": [
    {
     "name": "stdout",
     "output_type": "stream",
     "text": [
      "Area = 12.566370614359172\n",
      "Perimeter = 6.283185307179586\n",
      "True\n"
     ]
    }
   ],
   "source": [
    "from math import *\n",
    "\n",
    "class Circle:\n",
    "    def __init__(self, x, y, radius):\n",
    "        self.x = x\n",
    "        self.y = y\n",
    "        self.radius = radius\n",
    "        \n",
    "    def area(self):\n",
    "        return ((self.radius**2) * pi)\n",
    "    \n",
    "    def perimeter(self):\n",
    "        return (self.radius * pi)\n",
    "    \n",
    "    def isInside(self, xP, yP):\n",
    "        Distance = sqrt((xP - self.x)**2 + (yP - self.y)**2)\n",
    "        if Distance <= self.radius:\n",
    "            return True\n",
    "        else:\n",
    "            return False\n",
    "        \n",
    "\n",
    "my_circle = Circle(1, 1, 2)\n",
    "print(\"Area = {}\".format(my_circle.area()))\n",
    "print(\"Perimeter = {}\".format(my_circle.perimeter()))\n",
    "print(my_circle.isInside(3, 1))"
   ]
  },
  {
   "cell_type": "code",
   "execution_count": 2,
   "id": "union-produce",
   "metadata": {},
   "outputs": [
    {
     "name": "stdout",
     "output_type": "stream",
     "text": [
      "40\n"
     ]
    }
   ],
   "source": [
    "class Bank:\n",
    "    def __init__(self, balance):\n",
    "        self.balance = balance\n",
    "    \n",
    "    def deposit(self, money):\n",
    "        self.balance += money\n",
    "        print(my_account.balance)\n",
    "        return\n",
    "    \n",
    "    def withdraw(self, money):\n",
    "        self.balance -= money\n",
    "        print(my_account.balance)\n",
    "        return\n",
    "        \n",
    "    \n",
    "    \n",
    "my_account = Bank(50)\n",
    "my_account.withdraw(10)\n"
   ]
  }
 ],
 "metadata": {
  "kernelspec": {
   "display_name": "Python 3",
   "language": "python",
   "name": "python3"
  },
  "language_info": {
   "codemirror_mode": {
    "name": "ipython",
    "version": 3
   },
   "file_extension": ".py",
   "mimetype": "text/x-python",
   "name": "python",
   "nbconvert_exporter": "python",
   "pygments_lexer": "ipython3",
   "version": "3.6.13"
  }
 },
 "nbformat": 4,
 "nbformat_minor": 5
}
