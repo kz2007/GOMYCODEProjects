{
 "cells": [
  {
   "cell_type": "code",
   "execution_count": 2,
   "id": "vulnerable-baking",
   "metadata": {},
   "outputs": [
    {
     "name": "stdout",
     "output_type": "stream",
     "text": [
      "Enter your first name:Khaled\n",
      "Enter your last name:ZGUEB\n",
      "ZGUEB Khaled\n"
     ]
    }
   ],
   "source": [
    "#Exercice 1\n",
    "firstName = input(\"Enter your first name:\")\n",
    "lastName = input(\"Enter your last name:\")\n",
    "\n",
    "print(lastName + \" \" +  firstName)"
   ]
  },
  {
   "cell_type": "code",
   "execution_count": 3,
   "id": "amazing-tulsa",
   "metadata": {},
   "outputs": [
    {
     "name": "stdout",
     "output_type": "stream",
     "text": [
      "Enter your integer5\n",
      "615\n"
     ]
    }
   ],
   "source": [
    "#Exercice 2\n",
    "valueInteger = input(\"Enter your integer: \")\n",
    "\n",
    "valueInteger = str(valueInteger)\n",
    "\n",
    "value1 = int(valueInteger * 1)\n",
    "value2 = int(valueInteger * 2)\n",
    "value3 = int(valueInteger * 3)\n",
    "\n",
    "print(value1 + value2 + value3)"
   ]
  },
  {
   "cell_type": "code",
   "execution_count": 5,
   "id": "present-approval",
   "metadata": {},
   "outputs": [
    {
     "name": "stdout",
     "output_type": "stream",
     "text": [
      "Enter your number: 5\n",
      "This number is odd\n"
     ]
    }
   ],
   "source": [
    "#Exercice 3\n",
    "number = input(\"Enter your number: \")\n",
    "number = int(number)\n",
    "\n",
    "if (number % 2) == 0:\n",
    "    print(\"This number is even\")\n",
    "else:\n",
    "    print(\"This number is odd\")"
   ]
  },
  {
   "cell_type": "code",
   "execution_count": 2,
   "id": "abstract-midwest",
   "metadata": {
    "scrolled": false
   },
   "outputs": [
    {
     "name": "stdout",
     "output_type": "stream",
     "text": [
      "2002\n",
      "2009\n",
      "2016\n",
      "2023\n",
      "2037\n",
      "2044\n",
      "2051\n",
      "2058\n",
      "2072\n",
      "2079\n",
      "2086\n",
      "2093\n",
      "2107\n",
      "2114\n",
      "2121\n",
      "2128\n",
      "2142\n",
      "2149\n",
      "2156\n",
      "2163\n",
      "2177\n",
      "2184\n",
      "2191\n",
      "2198\n",
      "2212\n",
      "2219\n",
      "2226\n",
      "2233\n",
      "2247\n",
      "2254\n",
      "2261\n",
      "2268\n",
      "2282\n",
      "2289\n",
      "2296\n",
      "2303\n",
      "2317\n",
      "2324\n",
      "2331\n",
      "2338\n",
      "2352\n",
      "2359\n",
      "2366\n",
      "2373\n",
      "2387\n",
      "2394\n",
      "2401\n",
      "2408\n",
      "2422\n",
      "2429\n",
      "2436\n",
      "2443\n",
      "2457\n",
      "2464\n",
      "2471\n",
      "2478\n",
      "2492\n",
      "2499\n",
      "2506\n",
      "2513\n",
      "2527\n",
      "2534\n",
      "2541\n",
      "2548\n",
      "2562\n",
      "2569\n",
      "2576\n",
      "2583\n",
      "2597\n",
      "2604\n",
      "2611\n",
      "2618\n",
      "2632\n",
      "2639\n",
      "2646\n",
      "2653\n",
      "2667\n",
      "2674\n",
      "2681\n",
      "2688\n",
      "2702\n",
      "2709\n",
      "2716\n",
      "2723\n",
      "2737\n",
      "2744\n",
      "2751\n",
      "2758\n",
      "2772\n",
      "2779\n",
      "2786\n",
      "2793\n",
      "2807\n",
      "2814\n",
      "2821\n",
      "2828\n",
      "2842\n",
      "2849\n",
      "2856\n",
      "2863\n",
      "2877\n",
      "2884\n",
      "2891\n",
      "2898\n",
      "2912\n",
      "2919\n",
      "2926\n",
      "2933\n",
      "2947\n",
      "2954\n",
      "2961\n",
      "2968\n",
      "2982\n",
      "2989\n",
      "2996\n",
      "3003\n",
      "3017\n",
      "3024\n",
      "3031\n",
      "3038\n",
      "3052\n",
      "3059\n",
      "3066\n",
      "3073\n",
      "3087\n",
      "3094\n",
      "3101\n",
      "3108\n",
      "3122\n",
      "3129\n",
      "3136\n",
      "3143\n",
      "3157\n",
      "3164\n",
      "3171\n",
      "3178\n",
      "3192\n",
      "3199\n"
     ]
    }
   ],
   "source": [
    "#Exercice 4\n",
    "for num in range(2000, 3201):\n",
    "    if (num % 7) == 0 and (num % 5) != 0:\n",
    "        print(num)"
   ]
  },
  {
   "cell_type": "code",
   "execution_count": 1,
   "id": "boring-shape",
   "metadata": {},
   "outputs": [
    {
     "name": "stdout",
     "output_type": "stream",
     "text": [
      "Enter a number: 8\n",
      "The factorial of 8 is 40320\n"
     ]
    }
   ],
   "source": [
    "#Exercice 5\n",
    "num = int(input(\"Enter a number: \"))\n",
    "\n",
    "factorial = 1\n",
    "\n",
    "if num > 0:\n",
    "    for i in range(1,num + 1):\n",
    "        factorial = factorial*i\n",
    "    print(\"The factorial of\",num,\"is\",factorial)"
   ]
  },
  {
   "cell_type": "code",
   "execution_count": null,
   "id": "induced-netherlands",
   "metadata": {},
   "outputs": [],
   "source": [
    "#Exercice 6\n",
    "string = input(\"Enter your string: \")\n",
    "result =\"\"\n",
    "for i in range(0, len(string), 2):\n",
    "    result += str(string[i])\n",
    "print(result)"
   ]
  },
  {
   "cell_type": "code",
   "execution_count": null,
   "id": "increased-present",
   "metadata": {},
   "outputs": [],
   "source": [
    "#Exercice 7\n",
    "price = input(\"Enter the price: \")\n",
    "\n",
    "price = int(price)\n",
    "\n",
    "def discount(originalPrice, discountValue):\n",
    "    return (originalPrice / 100) * (100 - discountValue)\n",
    "\n",
    "if price >= 500:\n",
    "    price = discount(price, 50)\n",
    "elif price < 500 and price >= 200:\n",
    "    price = discount(price, 30)\n",
    "elif price < 200:\n",
    "    price = discount(price, 10)\n",
    "\n",
    "print(price)"
   ]
  },
  {
   "cell_type": "code",
   "execution_count": null,
   "id": "interracial-ozone",
   "metadata": {},
   "outputs": [],
   "source": []
  }
 ],
 "metadata": {
  "kernelspec": {
   "display_name": "Python 3",
   "language": "python",
   "name": "python3"
  },
  "language_info": {
   "codemirror_mode": {
    "name": "ipython",
    "version": 3
   },
   "file_extension": ".py",
   "mimetype": "text/x-python",
   "name": "python",
   "nbconvert_exporter": "python",
   "pygments_lexer": "ipython3",
   "version": "3.6.13"
  }
 },
 "nbformat": 4,
 "nbformat_minor": 5
}
